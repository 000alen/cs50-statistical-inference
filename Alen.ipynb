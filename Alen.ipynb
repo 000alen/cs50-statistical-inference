{
 "cells": [
  {
   "cell_type": "code",
   "execution_count": 143,
   "metadata": {},
   "outputs": [],
   "source": [
    "BINS = 20\n",
    "\n",
    "ALPHA = 0.05\n",
    "\n",
    "X = \"BMI\"\n",
    "Y = \"SkinThickness\"\n",
    "\n",
    "X_THRESHOLD = 30\n",
    "\n",
    "URL = (\n",
    "    \"https://course-resources.minerva.edu/uploaded_files/mu/00294342-2873/diabetes.csv\"\n",
    ")\n"
   ]
  },
  {
   "cell_type": "markdown",
   "metadata": {},
   "source": [
    "## Setup"
   ]
  },
  {
   "cell_type": "code",
   "execution_count": 144,
   "metadata": {},
   "outputs": [],
   "source": [
    "import pandas\n",
    "import numpy\n",
    "\n",
    "import matplotlib.pyplot as plt\n",
    "\n",
    "from scipy import stats\n",
    "from typing import Iterable\n"
   ]
  },
  {
   "cell_type": "code",
   "execution_count": 145,
   "metadata": {},
   "outputs": [],
   "source": [
    "# H0: mean(control's SkinThickness) = mean(treatment's SkinThickness)\n",
    "# H1: mean(control's SkinThickness) < mean(treatment's SkinThickness)"
   ]
  },
  {
   "cell_type": "code",
   "execution_count": 146,
   "metadata": {},
   "outputs": [],
   "source": [
    "df = pandas.read_csv(URL)\n",
    "df = df[(df[X] != 0) & (df[Y] != 0)]\n"
   ]
  },
  {
   "cell_type": "markdown",
   "metadata": {},
   "source": [
    "## #descriptivestats"
   ]
  },
  {
   "cell_type": "code",
   "execution_count": 147,
   "metadata": {},
   "outputs": [
    {
     "data": {
      "text/html": [
       "<div>\n",
       "<style scoped>\n",
       "    .dataframe tbody tr th:only-of-type {\n",
       "        vertical-align: middle;\n",
       "    }\n",
       "\n",
       "    .dataframe tbody tr th {\n",
       "        vertical-align: top;\n",
       "    }\n",
       "\n",
       "    .dataframe thead th {\n",
       "        text-align: right;\n",
       "    }\n",
       "</style>\n",
       "<table border=\"1\" class=\"dataframe\">\n",
       "  <thead>\n",
       "    <tr style=\"text-align: right;\">\n",
       "      <th></th>\n",
       "      <th>BMI</th>\n",
       "      <th>SkinThickness</th>\n",
       "    </tr>\n",
       "  </thead>\n",
       "  <tbody>\n",
       "    <tr>\n",
       "      <th>count</th>\n",
       "      <td>539.000000</td>\n",
       "      <td>539.000000</td>\n",
       "    </tr>\n",
       "    <tr>\n",
       "      <th>mean</th>\n",
       "      <td>32.895733</td>\n",
       "      <td>29.176252</td>\n",
       "    </tr>\n",
       "    <tr>\n",
       "      <th>std</th>\n",
       "      <td>6.871851</td>\n",
       "      <td>10.489706</td>\n",
       "    </tr>\n",
       "    <tr>\n",
       "      <th>min</th>\n",
       "      <td>18.200000</td>\n",
       "      <td>7.000000</td>\n",
       "    </tr>\n",
       "    <tr>\n",
       "      <th>25%</th>\n",
       "      <td>27.850000</td>\n",
       "      <td>22.000000</td>\n",
       "    </tr>\n",
       "    <tr>\n",
       "      <th>50%</th>\n",
       "      <td>32.800000</td>\n",
       "      <td>29.000000</td>\n",
       "    </tr>\n",
       "    <tr>\n",
       "      <th>75%</th>\n",
       "      <td>36.900000</td>\n",
       "      <td>36.000000</td>\n",
       "    </tr>\n",
       "    <tr>\n",
       "      <th>max</th>\n",
       "      <td>67.100000</td>\n",
       "      <td>99.000000</td>\n",
       "    </tr>\n",
       "  </tbody>\n",
       "</table>\n",
       "</div>"
      ],
      "text/plain": [
       "              BMI  SkinThickness\n",
       "count  539.000000     539.000000\n",
       "mean    32.895733      29.176252\n",
       "std      6.871851      10.489706\n",
       "min     18.200000       7.000000\n",
       "25%     27.850000      22.000000\n",
       "50%     32.800000      29.000000\n",
       "75%     36.900000      36.000000\n",
       "max     67.100000      99.000000"
      ]
     },
     "execution_count": 147,
     "metadata": {},
     "output_type": "execute_result"
    }
   ],
   "source": [
    "df.describe()[[X, Y]]"
   ]
  },
  {
   "cell_type": "code",
   "execution_count": 148,
   "metadata": {},
   "outputs": [],
   "source": [
    "control = df[df[X] < X_THRESHOLD]\n",
    "treatment = df[df[X] >= X_THRESHOLD]\n"
   ]
  },
  {
   "cell_type": "code",
   "execution_count": 149,
   "metadata": {},
   "outputs": [
    {
     "data": {
      "text/html": [
       "<div>\n",
       "<style scoped>\n",
       "    .dataframe tbody tr th:only-of-type {\n",
       "        vertical-align: middle;\n",
       "    }\n",
       "\n",
       "    .dataframe tbody tr th {\n",
       "        vertical-align: top;\n",
       "    }\n",
       "\n",
       "    .dataframe thead th {\n",
       "        text-align: right;\n",
       "    }\n",
       "</style>\n",
       "<table border=\"1\" class=\"dataframe\">\n",
       "  <thead>\n",
       "    <tr style=\"text-align: right;\">\n",
       "      <th></th>\n",
       "      <th>BMI</th>\n",
       "      <th>SkinThickness</th>\n",
       "    </tr>\n",
       "  </thead>\n",
       "  <tbody>\n",
       "    <tr>\n",
       "      <th>count</th>\n",
       "      <td>189.000000</td>\n",
       "      <td>189.000000</td>\n",
       "    </tr>\n",
       "    <tr>\n",
       "      <th>mean</th>\n",
       "      <td>25.887302</td>\n",
       "      <td>21.370370</td>\n",
       "    </tr>\n",
       "    <tr>\n",
       "      <th>std</th>\n",
       "      <td>2.834879</td>\n",
       "      <td>7.214817</td>\n",
       "    </tr>\n",
       "    <tr>\n",
       "      <th>min</th>\n",
       "      <td>18.200000</td>\n",
       "      <td>7.000000</td>\n",
       "    </tr>\n",
       "    <tr>\n",
       "      <th>25%</th>\n",
       "      <td>24.200000</td>\n",
       "      <td>17.000000</td>\n",
       "    </tr>\n",
       "    <tr>\n",
       "      <th>50%</th>\n",
       "      <td>26.200000</td>\n",
       "      <td>20.000000</td>\n",
       "    </tr>\n",
       "    <tr>\n",
       "      <th>75%</th>\n",
       "      <td>28.200000</td>\n",
       "      <td>27.000000</td>\n",
       "    </tr>\n",
       "    <tr>\n",
       "      <th>max</th>\n",
       "      <td>29.900000</td>\n",
       "      <td>39.000000</td>\n",
       "    </tr>\n",
       "  </tbody>\n",
       "</table>\n",
       "</div>"
      ],
      "text/plain": [
       "              BMI  SkinThickness\n",
       "count  189.000000     189.000000\n",
       "mean    25.887302      21.370370\n",
       "std      2.834879       7.214817\n",
       "min     18.200000       7.000000\n",
       "25%     24.200000      17.000000\n",
       "50%     26.200000      20.000000\n",
       "75%     28.200000      27.000000\n",
       "max     29.900000      39.000000"
      ]
     },
     "execution_count": 149,
     "metadata": {},
     "output_type": "execute_result"
    }
   ],
   "source": [
    "control.describe()[[X, Y]]"
   ]
  },
  {
   "cell_type": "code",
   "execution_count": 150,
   "metadata": {},
   "outputs": [
    {
     "data": {
      "text/html": [
       "<div>\n",
       "<style scoped>\n",
       "    .dataframe tbody tr th:only-of-type {\n",
       "        vertical-align: middle;\n",
       "    }\n",
       "\n",
       "    .dataframe tbody tr th {\n",
       "        vertical-align: top;\n",
       "    }\n",
       "\n",
       "    .dataframe thead th {\n",
       "        text-align: right;\n",
       "    }\n",
       "</style>\n",
       "<table border=\"1\" class=\"dataframe\">\n",
       "  <thead>\n",
       "    <tr style=\"text-align: right;\">\n",
       "      <th></th>\n",
       "      <th>BMI</th>\n",
       "      <th>SkinThickness</th>\n",
       "    </tr>\n",
       "  </thead>\n",
       "  <tbody>\n",
       "    <tr>\n",
       "      <th>count</th>\n",
       "      <td>350.000000</td>\n",
       "      <td>350.000000</td>\n",
       "    </tr>\n",
       "    <tr>\n",
       "      <th>mean</th>\n",
       "      <td>36.680286</td>\n",
       "      <td>33.391429</td>\n",
       "    </tr>\n",
       "    <tr>\n",
       "      <th>std</th>\n",
       "      <td>5.244299</td>\n",
       "      <td>9.527125</td>\n",
       "    </tr>\n",
       "    <tr>\n",
       "      <th>min</th>\n",
       "      <td>30.000000</td>\n",
       "      <td>11.000000</td>\n",
       "    </tr>\n",
       "    <tr>\n",
       "      <th>25%</th>\n",
       "      <td>33.100000</td>\n",
       "      <td>27.250000</td>\n",
       "    </tr>\n",
       "    <tr>\n",
       "      <th>50%</th>\n",
       "      <td>35.500000</td>\n",
       "      <td>32.000000</td>\n",
       "    </tr>\n",
       "    <tr>\n",
       "      <th>75%</th>\n",
       "      <td>39.100000</td>\n",
       "      <td>40.000000</td>\n",
       "    </tr>\n",
       "    <tr>\n",
       "      <th>max</th>\n",
       "      <td>67.100000</td>\n",
       "      <td>99.000000</td>\n",
       "    </tr>\n",
       "  </tbody>\n",
       "</table>\n",
       "</div>"
      ],
      "text/plain": [
       "              BMI  SkinThickness\n",
       "count  350.000000     350.000000\n",
       "mean    36.680286      33.391429\n",
       "std      5.244299       9.527125\n",
       "min     30.000000      11.000000\n",
       "25%     33.100000      27.250000\n",
       "50%     35.500000      32.000000\n",
       "75%     39.100000      40.000000\n",
       "max     67.100000      99.000000"
      ]
     },
     "execution_count": 150,
     "metadata": {},
     "output_type": "execute_result"
    }
   ],
   "source": [
    "treatment.describe()[[X, Y]]"
   ]
  },
  {
   "cell_type": "markdown",
   "metadata": {},
   "source": [
    "## #distributions"
   ]
  },
  {
   "cell_type": "code",
   "execution_count": 151,
   "metadata": {},
   "outputs": [
    {
     "data": {
      "image/png": "[encoded data removed]",
      "text/plain": [
       "<Figure size 600x400 with 1 Axes>"
      ]
     },
     "metadata": {},
     "output_type": "display_data"
    }
   ],
   "source": [
    "df.hist(column=X, bins=50)\n",
    "plt.axvline(X_THRESHOLD, color=\"r\")\n",
    "plt.title(X)\n",
    "plt.xlabel(X)\n",
    "plt.ylabel(\"Frequency\")\n",
    "plt.show()\n"
   ]
  },
  {
   "cell_type": "code",
   "execution_count": 152,
   "metadata": {},
   "outputs": [
    {
     "data": {
      "image/png": "[encoded data removed]",
      "text/plain": [
       "<Figure size 600x400 with 1 Axes>"
      ]
     },
     "metadata": {},
     "output_type": "display_data"
    }
   ],
   "source": [
    "control_range = control[Y].max() - control[Y].min()\n",
    "treatment_range = treatment[Y].max() - treatment[Y].min()\n",
    "max_range = max(control_range, treatment_range)\n",
    "control_bins = round(control_range / max_range * BINS)\n",
    "treatment_bins = round(treatment_range / max_range * BINS)\n",
    "\n",
    "plt.hist(\n",
    "    control[Y],\n",
    "    label=f\"BMI < {X_THRESHOLD}\",\n",
    "    alpha=0.5,\n",
    "    bins=control_bins,\n",
    "    histtype=\"step\",\n",
    ")\n",
    "plt.hist(\n",
    "    treatment[Y],\n",
    "    label=f\"BMI >= {X_THRESHOLD}\",\n",
    "    alpha=0.5,\n",
    "    bins=treatment_bins,\n",
    "    histtype=\"step\",\n",
    ")\n",
    "plt.title(Y)\n",
    "plt.xlabel(Y)\n",
    "plt.ylabel(\"Frequency\")\n",
    "plt.legend()\n",
    "plt.show()\n"
   ]
  },
  {
   "cell_type": "markdown",
   "metadata": {},
   "source": [
    "## #significance"
   ]
  },
  {
   "cell_type": "code",
   "execution_count": 153,
   "metadata": {},
   "outputs": [],
   "source": [
    "def difference_of_means_test(\n",
    "    control: Iterable[float], treatment: Iterable[float], tails: int = 1\n",
    "):\n",
    "    n_1, n_2 = len(control), len(treatment)\n",
    "    x_1, x_2 = numpy.mean(control), numpy.mean(treatment)\n",
    "\n",
    "    # sample SD formula (aka Bessel’s correction): use n-1 in denominator\n",
    "    s_1, s_2 = numpy.std(control, ddof=1), numpy.std(treatment, ddof=1)\n",
    "\n",
    "    # conservative estimate from OpenIntro\n",
    "    DOF = min(n_1, n_2) - 1\n",
    "\n",
    "    SE = numpy.sqrt(s_1**2 / n_1 + s_2**2 / n_2)\n",
    "    t_score = numpy.abs((x_2 - x_1)) / SE\n",
    "    p_value = tails * stats.t.cdf(-t_score, DOF)\n",
    "\n",
    "    # OpenIntro section 5.3.6\n",
    "    pooled_SD = numpy.sqrt(\n",
    "        (s_1**2 * (n_1 - 1) + s_2**2 * (n_2 - 1)) / (n_1 + n_2 - 2)\n",
    "    )\n",
    "    cohen_d = (x_2 - x_1) / pooled_SD\n",
    "\n",
    "    return p_value, cohen_d\n"
   ]
  },
  {
   "cell_type": "code",
   "execution_count": 154,
   "metadata": {},
   "outputs": [
    {
     "name": "stdout",
     "output_type": "stream",
     "text": [
      "p-value: 1.6038765846192836e-38, Cohen's d: 1.3680347642319406\n"
     ]
    }
   ],
   "source": [
    "p_value, cohen_d = difference_of_means_test(\n",
    "    control[Y], treatment[Y]\n",
    ")\n",
    "print(f\"p-value: {p_value}, Cohen's d: {cohen_d}\")\n"
   ]
  },
  {
   "cell_type": "markdown",
   "metadata": {},
   "source": [
    "## Sampling"
   ]
  },
  {
   "cell_type": "code",
   "execution_count": 109,
   "metadata": {},
   "outputs": [],
   "source": [
    "# this function implements the full sampling process\n",
    "def sample_procedure(pop_dist, n, repeats):\n",
    "    sample_means = []\n",
    "\n",
    "    for i in range(repeats):\n",
    "        sample = numpy.random.choice(pop_dist, n)\n",
    "        # by default, numpy.random.choice uses replace=True\n",
    "        this_mean = numpy.mean(sample)\n",
    "        sample_means.append(this_mean)\n",
    "    return sample_means\n",
    "\n",
    "\n",
    "# this function creates an upper and lower bound for a confidence interval\n",
    "def confidence_interval(point_estimate, SE, conf_level):\n",
    "    z = stats.norm.ppf(\n",
    "        1 - (1 - conf_level) / 2\n",
    "    )  # gives 1.96 for a 95% confidence level\n",
    "    lowbound = point_estimate - z * SE\n",
    "    highbound = point_estimate + z * SE\n",
    "    return lowbound, highbound\n",
    "\n",
    "\n",
    "# this function runs the whole sampling and evaluation procedure\n",
    "def f(population, max_sample_size):\n",
    "    SD = numpy.std(population) \n",
    "    \n",
    "    sample_means = []\n",
    "    cis = []\n",
    "    for sample_size in range(1, max_sample_size + 1):\n",
    "        SE = SD / numpy.sqrt(sample_size)\n",
    "        sample = numpy.random.choice(population, sample_size)\n",
    "        sample_mean = numpy.mean(sample)\n",
    "        sample_means.append(sample_mean)\n",
    "        cis.append(confidence_interval(sample_mean, SE, 0.95))\n",
    "\n",
    "    plt.scatter(range(1, max_sample_size + 1), sample_means)\n",
    "    plt.plot(range(1, max_sample_size + 1), sample_means)\n",
    "\n",
    "    for i in range(len(cis)):\n",
    "        plt.plot([i + 1, i + 1], cis[i], color=\"b\", alpha=0.25)\n",
    "\n",
    "    plt.axhline(numpy.mean(population), color=\"r\", linestyle=\"--\", linewidth=2)\n",
    "    plt.show()\n",
    "\n"
   ]
  },
  {
   "cell_type": "code",
   "execution_count": 116,
   "metadata": {},
   "outputs": [
    {
     "data": {
      "image/png": "[encoded data removed]",
      "text/plain": [
       "<Figure size 600x400 with 1 Axes>"
      ]
     },
     "metadata": {},
     "output_type": "display_data"
    }
   ],
   "source": [
    "f(control[\"SkinThickness\"], 100)"
   ]
  },
  {
   "cell_type": "code",
   "execution_count": null,
   "metadata": {},
   "outputs": [],
   "source": []
  }
 ],
 "metadata": {
  "kernelspec": {
   "display_name": "Python 3.10.6 64-bit",
   "language": "python",
   "name": "python3"
  },
  "language_info": {
   "codemirror_mode": {
    "name": "ipython",
    "version": 3
   },
   "file_extension": ".py",
   "mimetype": "text/x-python",
   "name": "python",
   "nbconvert_exporter": "python",
   "pygments_lexer": "ipython3",
   "version": "3.10.6"
  },
  "orig_nbformat": 4,
  "vscode": {
   "interpreter": {
    "hash": "916dbcbb3f70747c44a77c7bcd40155683ae19c65e1c03b4aa3499c5328201f1"
   }
  }
 },
 "nbformat": 4,
 "nbformat_minor": 2
}
