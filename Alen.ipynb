{
 "cells": [
  {
   "cell_type": "code",
   "execution_count": 27,
   "metadata": {},
   "outputs": [],
   "source": [
    "BMI_THRESHOLD = 30\n",
    "BINS = 20\n",
    "\n",
    "ALPHA = 0.05"
   ]
  },
  {
   "cell_type": "markdown",
   "metadata": {},
   "source": [
    "## Setup"
   ]
  },
  {
   "cell_type": "code",
   "execution_count": 3,
   "metadata": {},
   "outputs": [],
   "source": [
    "import pandas\n",
    "import numpy\n",
    "\n",
    "import matplotlib.pyplot as plt\n",
    "\n",
    "from scipy import stats\n",
    "from typing import Iterable\n"
   ]
  },
  {
   "cell_type": "code",
   "execution_count": null,
   "metadata": {},
   "outputs": [],
   "source": [
    "# H0: mean(control's SkinThickness) = mean(treatment's SkinThickness)\n",
    "# H1: mean(control's SkinThickness) < mean(treatment's SkinThickness)"
   ]
  },
  {
   "cell_type": "code",
   "execution_count": 58,
   "metadata": {},
   "outputs": [
    {
     "data": {
      "text/plain": [
       "539"
      ]
     },
     "execution_count": 58,
     "metadata": {},
     "output_type": "execute_result"
    }
   ],
   "source": [
    "df = pandas.read_csv(\n",
    "    \"https://course-resources.minerva.edu/uploaded_files/mu/00294342-2873/diabetes.csv\"\n",
    ")\n",
    "df = df[(df[\"BMI\"] != 0) & (df[\"SkinThickness\"] != 0)]"
   ]
  },
  {
   "cell_type": "markdown",
   "metadata": {},
   "source": [
    "## #descriptivestats"
   ]
  },
  {
   "cell_type": "code",
   "execution_count": 15,
   "metadata": {},
   "outputs": [
    {
     "data": {
      "text/html": [
       "<div>\n",
       "<style scoped>\n",
       "    .dataframe tbody tr th:only-of-type {\n",
       "        vertical-align: middle;\n",
       "    }\n",
       "\n",
       "    .dataframe tbody tr th {\n",
       "        vertical-align: top;\n",
       "    }\n",
       "\n",
       "    .dataframe thead th {\n",
       "        text-align: right;\n",
       "    }\n",
       "</style>\n",
       "<table border=\"1\" class=\"dataframe\">\n",
       "  <thead>\n",
       "    <tr style=\"text-align: right;\">\n",
       "      <th></th>\n",
       "      <th>BMI</th>\n",
       "      <th>SkinThickness</th>\n",
       "    </tr>\n",
       "  </thead>\n",
       "  <tbody>\n",
       "    <tr>\n",
       "      <th>count</th>\n",
       "      <td>539.000000</td>\n",
       "      <td>539.000000</td>\n",
       "    </tr>\n",
       "    <tr>\n",
       "      <th>mean</th>\n",
       "      <td>32.895733</td>\n",
       "      <td>29.176252</td>\n",
       "    </tr>\n",
       "    <tr>\n",
       "      <th>std</th>\n",
       "      <td>6.871851</td>\n",
       "      <td>10.489706</td>\n",
       "    </tr>\n",
       "    <tr>\n",
       "      <th>min</th>\n",
       "      <td>18.200000</td>\n",
       "      <td>7.000000</td>\n",
       "    </tr>\n",
       "    <tr>\n",
       "      <th>25%</th>\n",
       "      <td>27.850000</td>\n",
       "      <td>22.000000</td>\n",
       "    </tr>\n",
       "    <tr>\n",
       "      <th>50%</th>\n",
       "      <td>32.800000</td>\n",
       "      <td>29.000000</td>\n",
       "    </tr>\n",
       "    <tr>\n",
       "      <th>75%</th>\n",
       "      <td>36.900000</td>\n",
       "      <td>36.000000</td>\n",
       "    </tr>\n",
       "    <tr>\n",
       "      <th>max</th>\n",
       "      <td>67.100000</td>\n",
       "      <td>99.000000</td>\n",
       "    </tr>\n",
       "  </tbody>\n",
       "</table>\n",
       "</div>"
      ],
      "text/plain": [
       "              BMI  SkinThickness\n",
       "count  539.000000     539.000000\n",
       "mean    32.895733      29.176252\n",
       "std      6.871851      10.489706\n",
       "min     18.200000       7.000000\n",
       "25%     27.850000      22.000000\n",
       "50%     32.800000      29.000000\n",
       "75%     36.900000      36.000000\n",
       "max     67.100000      99.000000"
      ]
     },
     "execution_count": 15,
     "metadata": {},
     "output_type": "execute_result"
    }
   ],
   "source": [
    "df.describe()[[\"BMI\", \"SkinThickness\"]]"
   ]
  },
  {
   "cell_type": "code",
   "execution_count": 6,
   "metadata": {},
   "outputs": [],
   "source": [
    "control = df[df[\"BMI\"] < BMI_THRESHOLD]\n",
    "treatment = df[df[\"BMI\"] >= BMI_THRESHOLD]\n"
   ]
  },
  {
   "cell_type": "code",
   "execution_count": 17,
   "metadata": {},
   "outputs": [
    {
     "data": {
      "text/html": [
       "<div>\n",
       "<style scoped>\n",
       "    .dataframe tbody tr th:only-of-type {\n",
       "        vertical-align: middle;\n",
       "    }\n",
       "\n",
       "    .dataframe tbody tr th {\n",
       "        vertical-align: top;\n",
       "    }\n",
       "\n",
       "    .dataframe thead th {\n",
       "        text-align: right;\n",
       "    }\n",
       "</style>\n",
       "<table border=\"1\" class=\"dataframe\">\n",
       "  <thead>\n",
       "    <tr style=\"text-align: right;\">\n",
       "      <th></th>\n",
       "      <th>BMI</th>\n",
       "      <th>SkinThickness</th>\n",
       "    </tr>\n",
       "  </thead>\n",
       "  <tbody>\n",
       "    <tr>\n",
       "      <th>count</th>\n",
       "      <td>189.000000</td>\n",
       "      <td>189.000000</td>\n",
       "    </tr>\n",
       "    <tr>\n",
       "      <th>mean</th>\n",
       "      <td>25.887302</td>\n",
       "      <td>21.370370</td>\n",
       "    </tr>\n",
       "    <tr>\n",
       "      <th>std</th>\n",
       "      <td>2.834879</td>\n",
       "      <td>7.214817</td>\n",
       "    </tr>\n",
       "    <tr>\n",
       "      <th>min</th>\n",
       "      <td>18.200000</td>\n",
       "      <td>7.000000</td>\n",
       "    </tr>\n",
       "    <tr>\n",
       "      <th>25%</th>\n",
       "      <td>24.200000</td>\n",
       "      <td>17.000000</td>\n",
       "    </tr>\n",
       "    <tr>\n",
       "      <th>50%</th>\n",
       "      <td>26.200000</td>\n",
       "      <td>20.000000</td>\n",
       "    </tr>\n",
       "    <tr>\n",
       "      <th>75%</th>\n",
       "      <td>28.200000</td>\n",
       "      <td>27.000000</td>\n",
       "    </tr>\n",
       "    <tr>\n",
       "      <th>max</th>\n",
       "      <td>29.900000</td>\n",
       "      <td>39.000000</td>\n",
       "    </tr>\n",
       "  </tbody>\n",
       "</table>\n",
       "</div>"
      ],
      "text/plain": [
       "              BMI  SkinThickness\n",
       "count  189.000000     189.000000\n",
       "mean    25.887302      21.370370\n",
       "std      2.834879       7.214817\n",
       "min     18.200000       7.000000\n",
       "25%     24.200000      17.000000\n",
       "50%     26.200000      20.000000\n",
       "75%     28.200000      27.000000\n",
       "max     29.900000      39.000000"
      ]
     },
     "execution_count": 17,
     "metadata": {},
     "output_type": "execute_result"
    }
   ],
   "source": [
    "control.describe()[[\"BMI\", \"SkinThickness\"]]"
   ]
  },
  {
   "cell_type": "code",
   "execution_count": 18,
   "metadata": {},
   "outputs": [
    {
     "data": {
      "text/html": [
       "<div>\n",
       "<style scoped>\n",
       "    .dataframe tbody tr th:only-of-type {\n",
       "        vertical-align: middle;\n",
       "    }\n",
       "\n",
       "    .dataframe tbody tr th {\n",
       "        vertical-align: top;\n",
       "    }\n",
       "\n",
       "    .dataframe thead th {\n",
       "        text-align: right;\n",
       "    }\n",
       "</style>\n",
       "<table border=\"1\" class=\"dataframe\">\n",
       "  <thead>\n",
       "    <tr style=\"text-align: right;\">\n",
       "      <th></th>\n",
       "      <th>BMI</th>\n",
       "      <th>SkinThickness</th>\n",
       "    </tr>\n",
       "  </thead>\n",
       "  <tbody>\n",
       "    <tr>\n",
       "      <th>count</th>\n",
       "      <td>350.000000</td>\n",
       "      <td>350.000000</td>\n",
       "    </tr>\n",
       "    <tr>\n",
       "      <th>mean</th>\n",
       "      <td>36.680286</td>\n",
       "      <td>33.391429</td>\n",
       "    </tr>\n",
       "    <tr>\n",
       "      <th>std</th>\n",
       "      <td>5.244299</td>\n",
       "      <td>9.527125</td>\n",
       "    </tr>\n",
       "    <tr>\n",
       "      <th>min</th>\n",
       "      <td>30.000000</td>\n",
       "      <td>11.000000</td>\n",
       "    </tr>\n",
       "    <tr>\n",
       "      <th>25%</th>\n",
       "      <td>33.100000</td>\n",
       "      <td>27.250000</td>\n",
       "    </tr>\n",
       "    <tr>\n",
       "      <th>50%</th>\n",
       "      <td>35.500000</td>\n",
       "      <td>32.000000</td>\n",
       "    </tr>\n",
       "    <tr>\n",
       "      <th>75%</th>\n",
       "      <td>39.100000</td>\n",
       "      <td>40.000000</td>\n",
       "    </tr>\n",
       "    <tr>\n",
       "      <th>max</th>\n",
       "      <td>67.100000</td>\n",
       "      <td>99.000000</td>\n",
       "    </tr>\n",
       "  </tbody>\n",
       "</table>\n",
       "</div>"
      ],
      "text/plain": [
       "              BMI  SkinThickness\n",
       "count  350.000000     350.000000\n",
       "mean    36.680286      33.391429\n",
       "std      5.244299       9.527125\n",
       "min     30.000000      11.000000\n",
       "25%     33.100000      27.250000\n",
       "50%     35.500000      32.000000\n",
       "75%     39.100000      40.000000\n",
       "max     67.100000      99.000000"
      ]
     },
     "execution_count": 18,
     "metadata": {},
     "output_type": "execute_result"
    }
   ],
   "source": [
    "treatment.describe()[[\"BMI\", \"SkinThickness\"]]"
   ]
  },
  {
   "cell_type": "markdown",
   "metadata": {},
   "source": [
    "## #distributions"
   ]
  },
  {
   "cell_type": "code",
   "execution_count": 14,
   "metadata": {},
   "outputs": [
    {
     "data": {
      "image/png": "[encoded data removed]",
      "text/plain": [
       "<Figure size 640x480 with 1 Axes>"
      ]
     },
     "metadata": {},
     "output_type": "display_data"
    }
   ],
   "source": [
    "df.hist(column=\"BMI\", bins=50)\n",
    "plt.axvline(BMI_THRESHOLD, color=\"r\")\n",
    "plt.title(\"BMI\")\n",
    "plt.xlabel(\"BMI\")\n",
    "plt.ylabel(\"Frequency\")\n",
    "plt.show()\n"
   ]
  },
  {
   "cell_type": "code",
   "execution_count": 30,
   "metadata": {},
   "outputs": [
    {
     "data": {
      "image/png": "[encoded data removed]",
      "text/plain": [
       "<Figure size 600x400 with 1 Axes>"
      ]
     },
     "metadata": {},
     "output_type": "display_data"
    }
   ],
   "source": [
    "control_range = control[\"SkinThickness\"].max() - control[\"SkinThickness\"].min()\n",
    "treatment_range = treatment[\"SkinThickness\"].max() - treatment[\"SkinThickness\"].min()\n",
    "max_range = max(control_range, treatment_range)\n",
    "control_bins = round(control_range / max_range * BINS)\n",
    "treatment_bins = round(treatment_range / max_range * BINS)\n",
    "\n",
    "plt.hist(\n",
    "    control[\"SkinThickness\"],\n",
    "    label=f\"BMI < {BMI_THRESHOLD}\",\n",
    "    alpha=0.5,\n",
    "    bins=control_bins,\n",
    "    histtype=\"step\",\n",
    ")\n",
    "plt.hist(\n",
    "    treatment[\"SkinThickness\"],\n",
    "    label=f\"BMI >= {BMI_THRESHOLD}\",\n",
    "    alpha=0.5,\n",
    "    bins=treatment_bins,\n",
    "    histtype=\"step\",\n",
    ")\n",
    "plt.title(\"SkinThickness\")\n",
    "plt.xlabel(\"SkinThickness\")\n",
    "plt.ylabel(\"Frequency\")\n",
    "plt.legend()\n",
    "plt.show()\n"
   ]
  },
  {
   "cell_type": "markdown",
   "metadata": {},
   "source": [
    "## #significance"
   ]
  },
  {
   "cell_type": "code",
   "execution_count": 41,
   "metadata": {},
   "outputs": [],
   "source": [
    "def difference_of_means_test(\n",
    "    control: Iterable[float], treatment: Iterable[float], tails: int = 1\n",
    "):\n",
    "    n_1, n_2 = len(control), len(treatment)\n",
    "    x_1, x_2 = numpy.mean(control), numpy.mean(treatment)\n",
    "\n",
    "    # sample SD formula (aka Bessel’s correction): use n-1 in denominator\n",
    "    s_1, s_2 = numpy.std(control, ddof=1), numpy.std(treatment, ddof=1)\n",
    "\n",
    "    # conservative estimate from OpenIntro\n",
    "    DOF = min(n_1, n_2) - 1\n",
    "\n",
    "    SE = numpy.sqrt(s_1**2 / n_1 + s_2**2 / n_2)\n",
    "    t_score = numpy.abs((x_2 - x_1)) / SE\n",
    "    p_value = tails * stats.t.cdf(-t_score, DOF)\n",
    "\n",
    "    # OpenIntro section 5.3.6\n",
    "    pooled_SD = numpy.sqrt(\n",
    "        (s_1**2 * (n_1 - 1) + s_2**2 * (n_2 - 1)) / (n_1 + n_2 - 2)\n",
    "    )\n",
    "    cohen_d = (x_2 - x_1) / pooled_SD\n",
    "\n",
    "    return p_value, cohen_d\n"
   ]
  },
  {
   "cell_type": "code",
   "execution_count": 42,
   "metadata": {},
   "outputs": [
    {
     "name": "stdout",
     "output_type": "stream",
     "text": [
      "p-value: 4.528017967991327e-19, Cohen's d: 1.2500796162147971\n"
     ]
    }
   ],
   "source": [
    "p_value, cohen_d = difference_of_means_test(\n",
    "    control[\"SkinThickness\"], treatment[\"SkinThickness\"]\n",
    ")\n",
    "print(f\"p-value: {p_value}, Cohen's d: {cohen_d}\")\n"
   ]
  },
  {
   "cell_type": "markdown",
   "metadata": {},
   "source": [
    "## Sampling"
   ]
  },
  {
   "cell_type": "code",
   "execution_count": 42,
   "metadata": {},
   "outputs": [],
   "source": [
    "# from scipy import stats\n",
    "\n",
    "# plt.rcParams.update({'font.size': 13})\n",
    "# plt.rcParams[\"figure.figsize\"] = [6,4]\n",
    "\n",
    "# def plot_pop(alpha,beta,size):\n",
    "#     population = stats.beta.rvs(alpha,beta,size=size)*200\n",
    "#     # Note: running this cell again will produce a slightly different distribution.\n",
    "#     # ...Why? Consider investigating the rvs function further.\n",
    "#     plt.hist(population,color='orange')\n",
    "#     plt.title(\"Population Distribution\")\n",
    "#     plt.ylabel('Frequency')\n",
    "#     plt.xlabel('X')\n",
    "#     print(\"Here's what your population distribution looks like:\")\n",
    "#     plt.show()\n",
    "#     print(\"The population mean is:\", round(numpy.mean(population),1))\n",
    "#     return population\n",
    "\n",
    "# def sample_procedure(dist,n,repeats):\n",
    "#     # this function implements the full sampling process\n",
    "#     # dist is the population distribution\n",
    "#     # n is the sample size\n",
    "    \n",
    "#     # lots of samples:\n",
    "#     sample_means = []\n",
    "#     for i in range(repeats):\n",
    "#         sample = numpy.random.choice(dist, (n, ))\n",
    "#         this_mean = numpy.mean(sample)\n",
    "#         sample_means.append(this_mean)\n",
    "#         # if i<3:\n",
    "#             # print(\"\\nSample #\",i+1,\":\",[round(elem, 1) for elem in sample])\n",
    "#             # print(\"This sample has a mean of:\",numpy.mean(sample))\n",
    "#     # print(\"\\n...\\n...\\n\\nSampling many (\"+str(repeats)+\") more times to approximate infinitely many samples...\\n\")\n",
    "    \n",
    "#     return sample_means\n",
    "\n",
    "# def plot_sampling_dist(sample_means,dist,n,repeats):\n",
    "#     # this function plots the sampling distribution\n",
    "#     print(\"\\nBased on\",repeats,\"samples of size\",n,\", here's what the sampling distribution of the sample mean looks like.\\n\")\n",
    "#     fig, ax = plt.subplots()\n",
    "#     ax.hist(sample_means,color='blue',density=1)\n",
    "#     x = numpy.linspace(min(sample_means)-1, max(sample_means)+1, 100)\n",
    "#     plt.xlim(min(x),max(x))\n",
    "#     # ax.plot(x, stats.norm.pdf(x, numpy.mean(sample_means), numpy.std(sample_means)),linewidth=2,color='red')\n",
    "#     plt.title('Sampling Distribution of the Sample Mean\\nn='+str(n))\n",
    "#     plt.ylabel('Frequency')\n",
    "#     plt.xlabel('Sample Mean')    \n",
    "#     plt.show()\n",
    "#     res = stats.probplot(sample_means, plot=plt)\n",
    "#     plt.title('Normal Probability (QQ) Plot')\n",
    "#     plt.show()\n",
    "    \n",
    "#     print(\"\\nThe mean of the sample means is:\", round(numpy.mean(sample_means),1))\n",
    "#     print(\"The standard deviation of the sample means is:\", round(numpy.std(sample_means),1))"
   ]
  },
  {
   "cell_type": "code",
   "execution_count": 43,
   "metadata": {},
   "outputs": [],
   "source": [
    "# a = 5\n",
    "# b = 2\n",
    "# pop_size = 1000\n",
    "# pop_dist = plot_pop(a,b,pop_size)"
   ]
  },
  {
   "cell_type": "code",
   "execution_count": 44,
   "metadata": {},
   "outputs": [],
   "source": [
    "# sample_size = 5 # <--- try changing sample sizes\n",
    "# sample_repeats = 50000 # needs to be a large number (to approximate infinitely many samples)\n",
    "# samples = sample_procedure(pop_dist,sample_size,sample_repeats) # call the sampling procedure\n",
    "# plot_sampling_dist(samples,pop_dist,sample_size,sample_repeats) "
   ]
  },
  {
   "cell_type": "code",
   "execution_count": 40,
   "metadata": {},
   "outputs": [
    {
     "name": "stdout",
     "output_type": "stream",
     "text": [
      "You can call these functions Herbie, because they're fully loaded!\n"
     ]
    }
   ],
   "source": [
    "# this function implements the full sampling process\n",
    "def sample_procedure(pop_dist, n, repeats):\n",
    "    sample_means = []\n",
    "\n",
    "    for i in range(repeats):\n",
    "        sample = numpy.random.choice(pop_dist, n)\n",
    "        # by default, numpy.random.choice uses replace=True\n",
    "        this_mean = numpy.mean(sample)\n",
    "        sample_means.append(this_mean)\n",
    "    return sample_means\n",
    "\n",
    "\n",
    "# this function creates an upper and lower bound for a confidence interval\n",
    "def confidence_interval(point_estimate, SE, conf_level):\n",
    "    z = stats.norm.ppf(\n",
    "        1 - (1 - conf_level) / 2\n",
    "    )  # gives 1.96 for a 95% confidence level\n",
    "    lowbound = point_estimate - z * SE\n",
    "    highbound = point_estimate + z * SE\n",
    "    return lowbound, highbound\n",
    "\n",
    "\n",
    "# this function calculates the percentage of\n",
    "# confidence intervals that contain the population mean\n",
    "def confidence_interval_accuracy(pop_mean, means, repeats, conf_level):\n",
    "    count = 0\n",
    "    standard_error = numpy.std(means)\n",
    "    for i in range(repeats):\n",
    "        this_mean = means[i]\n",
    "        low, high = confidence_interval(this_mean, standard_error, conf_level)\n",
    "        # if the population parameter is inside the interval, count it\n",
    "        if pop_mean > low and pop_mean < high:\n",
    "            count += 1\n",
    "    return count / repeats * 100\n",
    "\n",
    "\n",
    "# this function evaluates the accuracy of several different\n",
    "# confidence intervals for each sample and plots the result\n",
    "def confidence_interval_accuracy_chart(population_mean, sample_means, sample_repeats):\n",
    "    print(\"Allow 5-10 seconds to test all of those confidence intervals...\")\n",
    "    ci = [0.5, 0.6, 0.7, 0.8, 0.9]\n",
    "    ci_pct = [element * 100 for element in ci]\n",
    "    ci_success = []\n",
    "    for conf in ci:\n",
    "        ci_success.append(\n",
    "            confidence_interval_accuracy(\n",
    "                population_mean, sample_means, sample_repeats, conf\n",
    "            )\n",
    "        )\n",
    "    for i in range(len(ci)):\n",
    "        print(\n",
    "            \"With a\",\n",
    "            round(ci_pct[i], 0),\n",
    "            \"% confidence level:\",\n",
    "            round(ci_success[i], 2),\n",
    "            \"% of intervals capture the population mean\",\n",
    "        )\n",
    "    plt.scatter(ci_pct, ci_success)\n",
    "    plt.title(\"Confidence Interval Accuracy\")\n",
    "    plt.xlabel(\"Confidence Interval (%)\")\n",
    "    plt.ylabel(\"Percent of CIs that Include the Pop Mean\")\n",
    "    plt.plot([50, 99], [50, 99], \"r-\")\n",
    "    plt.show()\n",
    "\n",
    "\n",
    "# this function runs the whole sampling and evaluation procedure\n",
    "def do_that_confidence_interval_thang(population, sample_size, sample_repeats):\n",
    "    # Now, run the sampling procedure many times and plot our approximation\n",
    "    # of the sampling distribution of the sample means\n",
    "    sample_means = sample_procedure(population, sample_size, sample_repeats)\n",
    "\n",
    "    # Finally, construct a plot to show the accuracy of various confidence intervals\n",
    "    confidence_interval_accuracy_chart(\n",
    "        numpy.mean(population), sample_means, sample_repeats\n",
    "    )\n"
   ]
  },
  {
   "cell_type": "code",
   "execution_count": 41,
   "metadata": {},
   "outputs": [
    {
     "name": "stdout",
     "output_type": "stream",
     "text": [
      "Allow 5-10 seconds to test all of those confidence intervals...\n",
      "With a 50.0 % confidence level: 48.17 % of intervals capture the population mean\n",
      "With a 60.0 % confidence level: 59.2 % of intervals capture the population mean\n",
      "With a 70.0 % confidence level: 69.67 % of intervals capture the population mean\n",
      "With a 80.0 % confidence level: 79.69 % of intervals capture the population mean\n",
      "With a 90.0 % confidence level: 90.04 % of intervals capture the population mean\n"
     ]
    },
    {
     "data": {
      "image/png": "[encoded data removed]",
      "text/plain": [
       "<Figure size 600x400 with 1 Axes>"
      ]
     },
     "metadata": {},
     "output_type": "display_data"
    }
   ],
   "source": [
    "# RUN THIS CELL MULTIPLE TIMES\n",
    "\n",
    "# SET VALUES\n",
    "sample_size = 5  # try different sample sizes (e.g., n=5 and n=100)\n",
    "# population_shape = \"skewed\"     # can be uniform, skewed, normal, or bimodal\n",
    "sample_repeats = 10000  # this needs to be a large number\n",
    "\n",
    "# CREATE THE POPULATION, SAMPLE FROM IT, AND EVALUATE THE CONFIDENCE INTERVALS\n",
    "do_that_confidence_interval_thang(control[\"SkinThickness\"], sample_size, sample_repeats)\n"
   ]
  },
  {
   "cell_type": "code",
   "execution_count": 57,
   "metadata": {},
   "outputs": [
    {
     "data": {
      "image/png": "[encoded data removed]",
      "text/plain": [
       "<Figure size 700x400 with 1 Axes>"
      ]
     },
     "metadata": {},
     "output_type": "display_data"
    }
   ],
   "source": [
    "import numpy as np\n",
    "import matplotlib.pyplot as plt\n",
    "\n",
    "# example data\n",
    "x = np.array([0.5, 1.0, 1.5, 2.0, 2.5, 3.0, 3.5, 4.0, 4.5, 5.0])\n",
    "y = np.exp(-x)\n",
    "xerr = 0.1\n",
    "yerr = 0.2\n",
    "\n",
    "# lower & upper limits of the error\n",
    "lolims = np.array([0.5, 0, 1, 0, 1, 0, 0, 0, 1, 0])#, dtype=bool)\n",
    "uplims = np.array([0, 1, 0, 0, 0, 1, 0, 0, 0, 1])#, dtype=bool)\n",
    "ls = 'dotted'\n",
    "\n",
    "fig, ax = plt.subplots(figsize=(7, 4))\n",
    "\n",
    "# # standard error bars\n",
    "# ax.errorbar(x, y, yerr=yerr, linestyle=ls)\n",
    "\n",
    "# # including upper limits\n",
    "# ax.errorbar(x, y + 0.5, yerr=yerr, uplims=uplims,\n",
    "#             linestyle=ls)\n",
    "\n",
    "# # # including lower limits\n",
    "# ax.errorbar(x, y + 1.0, yerr=yerr, lolims=lolims,\n",
    "#             linestyle=ls)\n",
    "\n",
    "# including upper and lower limits\n",
    "ax.errorbar(x, y + 1.5, yerr=yerr,\n",
    "            lolims=lolims, uplims=uplims,\n",
    "            marker='o', markersize=8,\n",
    "            linestyle=ls)\n",
    "\n",
    "# # Plot a series with lower and upper limits in both x & y\n",
    "# # constant x-error with varying y-error\n",
    "# xerr = 0.2\n",
    "# yerr = np.full_like(x, 0.2)\n",
    "# yerr[[3, 6]] = 0.3\n",
    "\n",
    "# # mock up some limits by modifying previous data\n",
    "# xlolims = lolims\n",
    "# xuplims = uplims\n",
    "# lolims = np.zeros_like(x)\n",
    "# uplims = np.zeros_like(x)\n",
    "# lolims[[6]] = True  # only limited at this index\n",
    "# uplims[[3]] = True  # only limited at this index\n",
    "\n",
    "# # do the plotting\n",
    "# ax.errorbar(x, y + 2.1, xerr=xerr, yerr=yerr,\n",
    "#             xlolims=xlolims, xuplims=xuplims,\n",
    "#             uplims=uplims, lolims=lolims,\n",
    "#             marker='o', markersize=8,\n",
    "#             linestyle='none')\n",
    "\n",
    "# tidy up the figure\n",
    "ax.set_xlim((0, 5.5))\n",
    "ax.set_title('Errorbar upper and lower limits')\n",
    "plt.show()"
   ]
  },
  {
   "cell_type": "code",
   "execution_count": null,
   "metadata": {},
   "outputs": [],
   "source": []
  }
 ],
 "metadata": {
  "kernelspec": {
   "display_name": "Python 3.10.6 64-bit",
   "language": "python",
   "name": "python3"
  },
  "language_info": {
   "codemirror_mode": {
    "name": "ipython",
    "version": 3
   },
   "file_extension": ".py",
   "mimetype": "text/x-python",
   "name": "python",
   "nbconvert_exporter": "python",
   "pygments_lexer": "ipython3",
   "version": "3.10.6"
  },
  "orig_nbformat": 4,
  "vscode": {
   "interpreter": {
    "hash": "916dbcbb3f70747c44a77c7bcd40155683ae19c65e1c03b4aa3499c5328201f1"
   }
  }
 },
 "nbformat": 4,
 "nbformat_minor": 2
}
