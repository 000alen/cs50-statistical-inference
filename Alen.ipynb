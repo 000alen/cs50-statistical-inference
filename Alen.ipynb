{
 "cells": [
  {
   "cell_type": "code",
   "execution_count": 9,
   "metadata": {},
   "outputs": [],
   "source": [
    "import pandas\n",
    "import numpy\n",
    "\n",
    "import matplotlib.pyplot as plt\n",
    "\n",
    "from scipy import stats\n",
    "from typing import Iterable\n"
   ]
  },
  {
   "cell_type": "code",
   "execution_count": 5,
   "metadata": {},
   "outputs": [],
   "source": [
    "df = pandas.read_csv(\"https://course-resources.minerva.edu/uploaded_files/mu/00294342-2873/diabetes.csv\")\n",
    "df = df[df[\"BMI\"] != 0]"
   ]
  },
  {
   "cell_type": "code",
   "execution_count": 6,
   "metadata": {},
   "outputs": [
    {
     "data": {
      "text/plain": [
       "array([[<AxesSubplot: title={'center': 'BMI'}>]], dtype=object)"
      ]
     },
     "execution_count": 6,
     "metadata": {},
     "output_type": "execute_result"
    },
    {
     "data": {
      "image/png": "[encoded data removed]",
      "text/plain": [
       "<Figure size 640x480 with 1 Axes>"
      ]
     },
     "metadata": {},
     "output_type": "display_data"
    }
   ],
   "source": [
    "df.hist(column=\"BMI\", bins=50)"
   ]
  },
  {
   "cell_type": "code",
   "execution_count": 8,
   "metadata": {},
   "outputs": [],
   "source": [
    "control = df[df[\"BMI\"] < 25]\n",
    "treatment = df[df[\"BMI\"] >= 25]"
   ]
  },
  {
   "cell_type": "code",
   "execution_count": 13,
   "metadata": {},
   "outputs": [
    {
     "data": {
      "image/png": "[encoded data removed]",
      "text/plain": [
       "<Figure size 640x480 with 2 Axes>"
      ]
     },
     "metadata": {},
     "output_type": "display_data"
    }
   ],
   "source": [
    "f, (ax1, ax2) = plt.subplots(1, 2)\n",
    "ax1.hist(control[\"BMI\"], bins=50)\n",
    "ax1.set_title(\"Control\")\n",
    "\n",
    "ax2.hist(treatment[\"BMI\"], bins=50)\n",
    "ax2.set_title(\"Treatment\")\n",
    "\n",
    "plt.show()"
   ]
  },
  {
   "cell_type": "code",
   "execution_count": null,
   "metadata": {},
   "outputs": [],
   "source": [
    "# H0: mean(control's SkinFoldThickness) = mean(treatment's SkinFoldThickness)\n",
    "# H1: mean(control's SkinFoldThickness) < mean(treatment's SkinFoldThickness)"
   ]
  },
  {
   "cell_type": "code",
   "execution_count": 14,
   "metadata": {},
   "outputs": [],
   "source": [
    "\n",
    "\n",
    "def difference_of_means_test(\n",
    "    control: Iterable[float], treatment: Iterable[float], tails: int = 1\n",
    "):\n",
    "    n_1, n_2 = len(control), len(treatment)\n",
    "    x_1, x_2 = numpy.mean(control), numpy.mean(treatment)\n",
    "\n",
    "    # sample SD formula (aka Bessel’s correction): use n-1 in denominator\n",
    "    s_1, s_2 = numpy.std(control, ddof=1), numpy.std(\n",
    "        treatment, ddof=1\n",
    "    )  # conservative estimate from OpenIntro\n",
    "\n",
    "    # conservative estimate from OpenIntro\n",
    "    DOF = min(n_1, n_2) - 1\n",
    "\n",
    "    SE = numpy.sqrt(s_1**2 / n_1 + s_2**2 / n_2)\n",
    "    t_score = numpy.abs((x_2 - x_1)) / SE\n",
    "    p_value = tails * stats.t.cdf(-t_score, DOF)\n",
    "\n",
    "    # OpenIntro section 5.3.6\n",
    "    pooled_SD = numpy.sqrt(\n",
    "        (s_1**2 * (n_1 - 1) + s_2**2 * (n_2 - 1)) / (n_1 + n_2 - 2)\n",
    "    )\n",
    "    cohen_d = (x_2 - x_1) / pooled_SD\n",
    "\n",
    "    return p_value, cohen_d\n"
   ]
  },
  {
   "cell_type": "code",
   "execution_count": 15,
   "metadata": {},
   "outputs": [],
   "source": [
    "# import numpy as np\n",
    "# from scipy import stats\n",
    "\n",
    "# def difference_of_means_test(data1,data2,tails):\n",
    "#     n1 = len(data1)\n",
    "#     n2 = len(data2)\n",
    "\n",
    "#     x1 = np.mean(data1)\n",
    "#     x2 = np.mean(data2)\n",
    "\n",
    "#     s1 = np.std(data1, ddof = 1)\n",
    "#     s2 = np.std(data2, ddof = 1)\n",
    "    \n",
    "#     SE = np.sqrt(s1**2/n1 + s2**2/n2)\n",
    "    \n",
    "#     Tscore = np.abs(((x2-x1))/SE)\n",
    "#     df = min(n1,n2)-1 \n",
    "    \n",
    "#     pvalue = tails*stats.t.cdf(-Tscore, df)\n",
    "    \n",
    "#     SDpooled = np.sqrt((s1**2*(n1-1) + ss2**2*(n2-1))/(n1+n2-2))\n",
    "#     Cohensd = (x2 - x1)/SDpooled\n",
    "    \n",
    "\n",
    "\n",
    "#     print('p =',p_value)\n",
    "#     print('d =',cohens_d)"
   ]
  },
  {
   "cell_type": "code",
   "execution_count": null,
   "metadata": {},
   "outputs": [],
   "source": [
    "# def difference_of_means_test(data1,data2,tails):\n",
    "#     n1 = len(data1)\n",
    "#     n2 = len(data2)\n",
    "\n",
    "#     x1 = np.mean(data1)\n",
    "#     x2 = np.mean(data2)\n",
    "\n",
    "#     s1 = np.std(data1,ddof=1) # sample SD formula (aka Bessel’s correction): use n-1 in denominator\n",
    "#     s2 = np.std(data2,ddof=1)\n",
    "\n",
    "#     standard_error = np.sqrt(s1**2/n1 + s2**2/n2)\n",
    "#     t_score = np.abs((x2 - x1))/standard_error\n",
    "#     df = min(n1,n2) - 1 # conservative estimate from OpenIntro\n",
    "#     p_value = tails*stats.t.cdf(-t_score,df) # for a 1 or 2-tailed test\n",
    "\n",
    "#     sd_pooled = np.sqrt((s1**2*(n1-1) + s2**2*(n2-1))/(n1+n2-2))\n",
    "#     cohens_d = (x2 - x1)/sd_pooled\n",
    "\n",
    "#     print('p =',p_value)\n",
    "#     print('d =',cohens_d)"
   ]
  }
 ],
 "metadata": {
  "kernelspec": {
   "display_name": "Python 3.10.6 64-bit",
   "language": "python",
   "name": "python3"
  },
  "language_info": {
   "codemirror_mode": {
    "name": "ipython",
    "version": 3
   },
   "file_extension": ".py",
   "mimetype": "text/x-python",
   "name": "python",
   "nbconvert_exporter": "python",
   "pygments_lexer": "ipython3",
   "version": "3.10.6"
  },
  "orig_nbformat": 4,
  "vscode": {
   "interpreter": {
    "hash": "916dbcbb3f70747c44a77c7bcd40155683ae19c65e1c03b4aa3499c5328201f1"
   }
  }
 },
 "nbformat": 4,
 "nbformat_minor": 2
}
