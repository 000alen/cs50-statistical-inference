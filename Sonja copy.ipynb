{
 "cells": [
  {
   "cell_type": "code",
   "execution_count": 1,
   "metadata": {},
   "outputs": [],
   "source": [
    "# importing packages\n",
    "import pandas #\n",
    "import numpy\n",
    "import matplotlib.pyplot as plt\n",
    "from scipy import stats\n",
    "from typing import Iterable"
   ]
  },
  {
   "cell_type": "code",
   "execution_count": 2,
   "metadata": {},
   "outputs": [],
   "source": [
    "# defines the dataframe as \"df\" to allow easier access later\n",
    "df = pandas.read_csv(\"slr.csv\")"
   ]
  },
  {
   "cell_type": "code",
   "execution_count": 3,
   "metadata": {},
   "outputs": [
    {
     "data": {
      "text/html": [
       "<div>\n",
       "<style scoped>\n",
       "    .dataframe tbody tr th:only-of-type {\n",
       "        vertical-align: middle;\n",
       "    }\n",
       "\n",
       "    .dataframe tbody tr th {\n",
       "        vertical-align: top;\n",
       "    }\n",
       "\n",
       "    .dataframe thead th {\n",
       "        text-align: right;\n",
       "    }\n",
       "</style>\n",
       "<table border=\"1\" class=\"dataframe\">\n",
       "  <thead>\n",
       "    <tr style=\"text-align: right;\">\n",
       "      <th></th>\n",
       "      <th>NonWhite</th>\n",
       "      <th>Education</th>\n",
       "    </tr>\n",
       "  </thead>\n",
       "  <tbody>\n",
       "    <tr>\n",
       "      <th>count</th>\n",
       "      <td>60.000000</td>\n",
       "      <td>60.000000</td>\n",
       "    </tr>\n",
       "    <tr>\n",
       "      <th>mean</th>\n",
       "      <td>0.589638</td>\n",
       "      <td>0.857605</td>\n",
       "    </tr>\n",
       "    <tr>\n",
       "      <th>std</th>\n",
       "      <td>0.204536</td>\n",
       "      <td>0.109820</td>\n",
       "    </tr>\n",
       "    <tr>\n",
       "      <th>min</th>\n",
       "      <td>0.128998</td>\n",
       "      <td>0.539999</td>\n",
       "    </tr>\n",
       "    <tr>\n",
       "      <th>25%</th>\n",
       "      <td>0.481250</td>\n",
       "      <td>0.804000</td>\n",
       "    </tr>\n",
       "    <tr>\n",
       "      <th>50%</th>\n",
       "      <td>0.569000</td>\n",
       "      <td>0.888000</td>\n",
       "    </tr>\n",
       "    <tr>\n",
       "      <th>75%</th>\n",
       "      <td>0.742500</td>\n",
       "      <td>0.937197</td>\n",
       "    </tr>\n",
       "    <tr>\n",
       "      <th>max</th>\n",
       "      <td>0.981262</td>\n",
       "      <td>1.000996</td>\n",
       "    </tr>\n",
       "  </tbody>\n",
       "</table>\n",
       "</div>"
      ],
      "text/plain": [
       "        NonWhite  Education\n",
       "count  60.000000  60.000000\n",
       "mean    0.589638   0.857605\n",
       "std     0.204536   0.109820\n",
       "min     0.128998   0.539999\n",
       "25%     0.481250   0.804000\n",
       "50%     0.569000   0.888000\n",
       "75%     0.742500   0.937197\n",
       "max     0.981262   1.000996"
      ]
     },
     "execution_count": 3,
     "metadata": {},
     "output_type": "execute_result"
    }
   ],
   "source": [
    "# generates statistical summary of the proportions of non-white people \n",
    "# and high school graduates within the sample of SF census blocks\n",
    "df.describe()[[\"NonWhite\", \"Education\"]]"
   ]
  },
  {
   "cell_type": "code",
   "execution_count": 4,
   "metadata": {},
   "outputs": [
    {
     "data": {
      "image/png": "[encoded data removed]",
      "text/plain": [
       "<Figure size 640x480 with 1 Axes>"
      ]
     },
     "metadata": {},
     "output_type": "display_data"
    }
   ],
   "source": [
    "# creates a frequency distribution of non-white proportion across the sample census blocks\n",
    "df.hist(column=\"NonWhite\", bins=30)\n",
    "plt.axvline(0.5, color = \"r\") # draws the line between white-majority blocks (> 50% white) and white-minority blocks (<50%)\n",
    "plt.title(\"Frequency Distribution of NonWhite Census Blocks\")\n",
    "plt.savefig(\"Frequency Distribution of Non-White Census Blocks\", dpi = 600)\n",
    "plt.xlabel(\"Percentage of Non-White People\")\n",
    "plt.ylabel(\"Frequency\")\n",
    "plt.show()"
   ]
  },
  {
   "cell_type": "code",
   "execution_count": 5,
   "metadata": {},
   "outputs": [],
   "source": [
    "white = df[df[\"NonWhite\"] < 0.5]\n",
    "non_white = df[df[\"NonWhite\"] >= 0.5]\n",
    "\n",
    "# H0: mean(education in white) == mean(education in non_white)\n",
    "# H1: mean(education in white) > mean(education in non_white)"
   ]
  },
  {
   "cell_type": "code",
   "execution_count": 1,
   "metadata": {},
   "outputs": [
    {
     "ename": "NameError",
     "evalue": "name 'white' is not defined",
     "output_type": "error",
     "traceback": [
      "\u001b[0;31m---------------------------------------------------------------------------\u001b[0m",
      "\u001b[0;31mNameError\u001b[0m                                 Traceback (most recent call last)",
      "Cell \u001b[0;32mIn [1], line 2\u001b[0m\n\u001b[1;32m      1\u001b[0m bins \u001b[39m=\u001b[39m \u001b[39m15\u001b[39m\n\u001b[0;32m----> 2\u001b[0m w_range \u001b[39m=\u001b[39m \u001b[39mmax\u001b[39m(white[\u001b[39m\"\u001b[39m\u001b[39mEducation\u001b[39m\u001b[39m\"\u001b[39m]) \u001b[39m-\u001b[39m \u001b[39mmin\u001b[39m(white[\u001b[39m\"\u001b[39m\u001b[39mEducation\u001b[39m\u001b[39m\"\u001b[39m])\n\u001b[1;32m      3\u001b[0m nw_range \u001b[39m=\u001b[39m \u001b[39mmax\u001b[39m(non_white[\u001b[39m\"\u001b[39m\u001b[39mEducation\u001b[39m\u001b[39m\"\u001b[39m]) \u001b[39m-\u001b[39m \u001b[39mmin\u001b[39m(non_white[\u001b[39m\"\u001b[39m\u001b[39mEducation\u001b[39m\u001b[39m\"\u001b[39m])\n\u001b[1;32m      4\u001b[0m max_range \u001b[39m=\u001b[39m \u001b[39mmax\u001b[39m(w_range, nw_range)\n",
      "\u001b[0;31mNameError\u001b[0m: name 'white' is not defined"
     ]
    }
   ],
   "source": [
    "bins = 15\n",
    "w_range = max(white[\"Education\"]) - min(white[\"Education\"])\n",
    "nw_range = max(non_white[\"Education\"]) - min(non_white[\"Education\"])\n",
    "max_range = max(w_range, nw_range)\n",
    "space_per_bin = max_range / bins\n",
    "w_bins = int(w_range / space_per_bin)\n",
    "nw_bins = int(nw_range / space_per_bin)\n",
    "\n",
    "plt.hist(non_white[\"Education\"], edgecolor = \"white\", color = \"blue\", label = \"Non-White Majority\", alpha = 0.7, bins = nw_bins)\n",
    "plt.hist(white[\"Education\"], edgecolor = \"white\", color = \"green\", label = \"White Majority\", alpha = 0.7, bins = w_bins)\n",
    "plt.xlabel(\"Percentage of Adults over age 25 with High School Diplomas\")\n",
    "plt.ylabel(\"Frequency\")\n",
    "plt.title(\"Proportion of High School Graduates Across Census Blocks of Varying Racial Diversity\")\n",
    "plt.legend()\n",
    "plt.show()"
   ]
  },
  {
   "cell_type": "code",
   "execution_count": 7,
   "metadata": {},
   "outputs": [],
   "source": [
    "def difference_of_means_test(\n",
    "    control: Iterable[float], treatment: Iterable[float], tails: int = 1\n",
    "):\n",
    "    n_1, n_2 = len(control), len(treatment)\n",
    "    x_1, x_2 = numpy.mean(control), numpy.mean(treatment)\n",
    "\n",
    "    # sample SD formula (aka Bessel’s correction): use n-1 in denominator\n",
    "    s_1, s_2 = numpy.std(control, ddof=1), numpy.std(\n",
    "        treatment, ddof=1\n",
    "    )\n",
    "\n",
    "    # conservative estimate from OpenIntro\n",
    "    DOF = min(n_1, n_2) - 1\n",
    "\n",
    "    SE = numpy.sqrt(s_1**2 / n_1 + s_2**2 / n_2)\n",
    "    t_score = numpy.abs((x_2 - x_1)) / SE\n",
    "    p_value = tails * stats.t.cdf(-t_score, DOF)\n",
    "\n",
    "    # OpenIntro section 5.3.6\n",
    "    pooled_SD = numpy.sqrt(\n",
    "        (s_1**2 * (n_1 - 1) + s_2**2 * (n_2 - 1)) / (n_1 + n_2 - 2)\n",
    "    )\n",
    "    cohen_d = (x_2 - x_1) / pooled_SD\n",
    "\n",
    "    return p_value, cohen_d\n"
   ]
  },
  {
   "cell_type": "code",
   "execution_count": 10,
   "metadata": {},
   "outputs": [
    {
     "name": "stdout",
     "output_type": "stream",
     "text": [
      "p-value: 7.741754705428446e-07 Cohen's d: -1.4538461053727096\n"
     ]
    }
   ],
   "source": [
    "p_value, cohen_d = difference_of_means_test(\n",
    "    white[\"Education\"], non_white[\"Education\"], tails=1\n",
    ")\n",
    "print(\"p-value:\", p_value, \"Cohen's d:\", cohen_d)\n"
   ]
  },
  {
   "cell_type": "code",
   "execution_count": null,
   "metadata": {},
   "outputs": [],
   "source": []
  }
 ],
 "metadata": {
  "kernelspec": {
   "display_name": "Python 3.10.5 64-bit",
   "language": "python",
   "name": "python3"
  },
  "language_info": {
   "codemirror_mode": {
    "name": "ipython",
    "version": 3
   },
   "file_extension": ".py",
   "mimetype": "text/x-python",
   "name": "python",
   "nbconvert_exporter": "python",
   "pygments_lexer": "ipython3",
   "version": "3.10.5"
  },
  "orig_nbformat": 4,
  "vscode": {
   "interpreter": {
    "hash": "aee8b7b246df8f9039afb4144a1f6fd8d2ca17a180786b69acc140d282b71a49"
   }
  }
 },
 "nbformat": 4,
 "nbformat_minor": 2
}
