{
 "cells": [
  {
   "cell_type": "code",
   "execution_count": null,
   "metadata": {},
   "outputs": [],
   "source": [
    "import pandas\n",
    "import numpy\n",
    "\n",
    "import matplotlib.pyplot as plt\n",
    "\n",
    "from scipy import stats\n"
   ]
  },
  {
   "cell_type": "code",
   "execution_count": null,
   "metadata": {},
   "outputs": [],
   "source": [
    "df = pandas.read_csv(\n",
    "    \"https://course-resources.minerva.edu/uploaded_files/mu/00294347-0809/sf-sea-level-rise-sample.csv\",\n",
    ")[[\"NonWhite\", \"Education\"]]\n",
    "\n",
    "white = df[df[\"NonWhite\"] < 0.5]\n",
    "white_education = white[\"Education\"]\n",
    "\n",
    "non_white = df[df[\"NonWhite\"] >= 0.5]\n",
    "non_white_education = non_white[\"Education\"]"
   ]
  },
  {
   "cell_type": "code",
   "execution_count": null,
   "metadata": {},
   "outputs": [],
   "source": [
    "print(\"Whole dataset\")\n",
    "print(df.describe())\n"
   ]
  },
  {
   "cell_type": "code",
   "execution_count": null,
   "metadata": {},
   "outputs": [],
   "source": [
    "print(\"White\")\n",
    "print(white.describe())\n"
   ]
  },
  {
   "cell_type": "code",
   "execution_count": null,
   "metadata": {},
   "outputs": [],
   "source": [
    "print(\"Non-white\")\n",
    "print(non_white.describe())\n"
   ]
  },
  {
   "cell_type": "code",
   "execution_count": null,
   "metadata": {},
   "outputs": [],
   "source": [
    "print(f\"NonWhite median, Education median for whole dataset\")\n",
    "print(df[\"NonWhite\"].median(), df[\"Education\"].median())\n"
   ]
  },
  {
   "cell_type": "code",
   "execution_count": null,
   "metadata": {},
   "outputs": [],
   "source": [
    "print(f\"NonWhite median, Education median for white\")\n",
    "print(white[\"NonWhite\"].median(), white_education.median())\n"
   ]
  },
  {
   "cell_type": "code",
   "execution_count": null,
   "metadata": {},
   "outputs": [],
   "source": [
    "print(f\"NonWhite median, Education median for black\")\n",
    "print(non_white[\"NonWhite\"].median(), non_white_education.median())\n"
   ]
  },
  {
   "cell_type": "code",
   "execution_count": null,
   "metadata": {},
   "outputs": [],
   "source": [
    "# creates a frequency distribution of non-white proportion across the sample census blocks\n",
    "df.hist(column=\"NonWhite\", bins=30)\n",
    "\n",
    "# draws the line between white-majority blocks (> 50% white) and white-minority blocks (<50%)\n",
    "plt.axvline(0.5, color=\"r\")\n",
    "plt.title(\"Frequency Distribution of NonWhite Census Blocks\")\n",
    "plt.xlabel(\"Percentage of Non-White People\")\n",
    "plt.ylabel(\"Frequency\")\n",
    "plt.show()\n"
   ]
  },
  {
   "cell_type": "code",
   "execution_count": null,
   "metadata": {},
   "outputs": [],
   "source": [
    "bins = 15\n",
    "w_range = max(white[\"Education\"]) - min(white[\"Education\"])\n",
    "nw_range = max(non_white[\"Education\"]) - min(non_white[\"Education\"])\n",
    "max_range = max(w_range, nw_range)\n",
    "space_per_bin = max_range / bins\n",
    "w_bins = int(w_range / space_per_bin)\n",
    "nw_bins = int(nw_range / space_per_bin)\n",
    "\n",
    "plt.hist(non_white[\"Education\"], edgecolor = \"white\", color = \"blue\", label = \"Non-White Majority\", alpha = 0.7, bins = nw_bins)\n",
    "plt.hist(white[\"Education\"], edgecolor = \"white\", color = \"green\", label = \"White Majority\", alpha = 0.7, bins = w_bins)\n",
    "plt.xlabel(\"Percentage of Adults over age 25 with High School Diplomas\")\n",
    "plt.ylabel(\"Frequency\")\n",
    "plt.title(\"Proportion of High School Graduates Across Census Blocks of Varying Racial Diversity\")\n",
    "plt.legend()\n",
    "plt.show()"
   ]
  },
  {
   "cell_type": "code",
   "execution_count": null,
   "metadata": {},
   "outputs": [],
   "source": [
    "def difference_of_means_test(control, treatment, tails=1):\n",
    "    n_1, n_2 = len(control), len(treatment)\n",
    "    x_1, x_2 = numpy.mean(control), numpy.mean(treatment)\n",
    "\n",
    "    # sample SD formula (aka Bessel’s correction): use n-1 in denominator\n",
    "    s_1, s_2 = numpy.std(control, ddof=1), numpy.std(treatment, ddof=1)\n",
    "\n",
    "    # conservative estimate from OpenIntro\n",
    "    DOF = min(n_1, n_2) - 1\n",
    "\n",
    "    SE = numpy.sqrt(s_1**2 / n_1 + s_2**2 / n_2)\n",
    "    t_score = numpy.abs((x_2 - x_1)) / SE\n",
    "    p_value = tails * stats.t.cdf(-t_score, DOF)\n",
    "\n",
    "    # OpenIntro section 5.3.6\n",
    "    pooled_SD = numpy.sqrt(\n",
    "        (s_1**2 * (n_1 - 1) + s_2**2 * (n_2 - 1)) / (n_1 + n_2 - 2)\n",
    "    )\n",
    "    cohen_d = (x_2 - x_1) / pooled_SD\n",
    "\n",
    "    return p_value, cohen_d\n",
    "\n",
    "\n",
    "# this function creates an upper and lower bound for a confidence interval\n",
    "def confidence_interval(point_estimate, SE, conf_level):\n",
    "    z = stats.norm.ppf(\n",
    "        1 - (1 - conf_level) / 2\n",
    "    )  # gives 1.96 for a 95% confidence level\n",
    "    lowbound = point_estimate - z * SE\n",
    "    highbound = point_estimate + z * SE\n",
    "    return lowbound, highbound\n"
   ]
  },
  {
   "cell_type": "code",
   "execution_count": null,
   "metadata": {},
   "outputs": [],
   "source": [
    "p_value, cohen_d = difference_of_means_test(\n",
    "    white_education, non_white_education, tails=2\n",
    ")\n",
    "print(f\"p-value: {p_value}, Cohen's d: {cohen_d}\")\n"
   ]
  },
  {
   "cell_type": "code",
   "execution_count": null,
   "metadata": {},
   "outputs": [],
   "source": [
    "print(\n",
    "    f'Whole: CI 95%: {confidence_interval(numpy.mean(df[\"Education\"]), numpy.std(df[\"Education\"]) / numpy.sqrt(len(df)), 0.95)}'\n",
    ")\n"
   ]
  },
  {
   "cell_type": "code",
   "execution_count": null,
   "metadata": {},
   "outputs": [],
   "source": [
    "print(\n",
    "    f\"White: CI 95%: {confidence_interval(numpy.mean(white_education), numpy.std(white_education) / numpy.sqrt(len(white)), 0.95)}\"\n",
    ")\n"
   ]
  },
  {
   "cell_type": "code",
   "execution_count": null,
   "metadata": {},
   "outputs": [],
   "source": [
    "print(\n",
    "    f\"Non-white: CI 95%: {confidence_interval(numpy.mean(non_white_education), numpy.std(non_white_education) / numpy.sqrt(len(non_white)), 0.95)}\"\n",
    ")\n"
   ]
  },
  {
   "cell_type": "code",
   "execution_count": null,
   "metadata": {},
   "outputs": [],
   "source": []
  }
 ],
 "metadata": {
  "kernelspec": {
   "display_name": "Python 3.10.6 64-bit",
   "language": "python",
   "name": "python3"
  },
  "language_info": {
   "codemirror_mode": {
    "name": "ipython",
    "version": 3
   },
   "file_extension": ".py",
   "mimetype": "text/x-python",
   "name": "python",
   "nbconvert_exporter": "python",
   "pygments_lexer": "ipython3",
   "version": "3.10.6"
  },
  "orig_nbformat": 4,
  "vscode": {
   "interpreter": {
    "hash": "916dbcbb3f70747c44a77c7bcd40155683ae19c65e1c03b4aa3499c5328201f1"
   }
  }
 },
 "nbformat": 4,
 "nbformat_minor": 2
}
